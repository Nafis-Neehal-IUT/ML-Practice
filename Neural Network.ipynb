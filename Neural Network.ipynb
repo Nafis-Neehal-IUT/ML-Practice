{
 "cells": [
  {
   "cell_type": "markdown",
   "metadata": {},
   "source": [
    "<h1> Initialize Boring Stuffs </h1> "
   ]
  },
  {
   "cell_type": "code",
   "execution_count": 151,
   "metadata": {},
   "outputs": [
    {
     "name": "stdout",
     "output_type": "stream",
     "text": [
      "(42000, 784)\n"
     ]
    },
    {
     "data": {
      "image/png": "[encoded data removed]",
      "text/plain": [
       "<matplotlib.figure.Figure at 0x15103849b0>"
      ]
     },
     "metadata": {},
     "output_type": "display_data"
    }
   ],
   "source": [
    "#import libraries and stuff\n",
    "import numpy as np\n",
    "import pandas as pd\n",
    "import matplotlib.pyplot as plt\n",
    "\n",
    "#import mnist from local directory\n",
    "data = pd.read_csv('mnist/train.csv')\n",
    "\n",
    "#data_target_split\n",
    "y = np.array(data['label'])\n",
    "X = np.array(data[data.columns[1:]])\n",
    "X = X / 255\n",
    "\n",
    "#image checking\n",
    "print(X.shape)\n",
    "first_sample = np.reshape(X[5], (28, 28))\n",
    "plt.imshow(first_sample, cmap='gray')\n",
    "plt.show()"
   ]
  },
  {
   "cell_type": "markdown",
   "metadata": {},
   "source": [
    "<h1> Network Structure </h1>"
   ]
  },
  {
   "cell_type": "code",
   "execution_count": 192,
   "metadata": {},
   "outputs": [
    {
     "name": "stdout",
     "output_type": "stream",
     "text": [
      "42001 [[0.04990874]\n",
      " [0.97291619]\n",
      " [0.60080002]\n",
      " [0.64677699]\n",
      " [0.98157337]\n",
      " [0.2503338 ]\n",
      " [0.32931869]\n",
      " [0.08767584]\n",
      " [0.00243202]\n",
      " [0.5043112 ]]\n"
     ]
    }
   ],
   "source": [
    "#initialize the network\n",
    "\n",
    "class Layer:\n",
    "    def __init__(self, layer_parameter):\n",
    "        if(layer_parameter[1]!='none'): \n",
    "            self.activations_for_this_layer = np.zeros(layer_parameter[0])\n",
    "        self.number_of_nodes = layer_parameter[0]\n",
    "        self.activation_function = layer_parameter[1]\n",
    "        self.weights_from_previous_layer = layer_parameter[2]\n",
    "        self.biases_for_this_layer = layer_parameter[3]\n",
    "        \n",
    "class NeuralNetwork:\n",
    "    \n",
    "    #constructor\n",
    "    def __init__(self, network_parameter):\n",
    "        self.number_of_hidden_layers = network_parameter[0]\n",
    "        self.hidden_layer_size = network_parameter[1]\n",
    "        self.output_size = network_parameter[2]\n",
    "        self.layers = []\n",
    "        \n",
    "    #activation functions\n",
    "    def ReLU(self, x):\n",
    "        return np.maximum(x, 0)\n",
    "    \n",
    "    def sigmoid(self, x):\n",
    "        return np.divide(1, np.add(1, np.exp(np.negative(x))))\n",
    "    \n",
    "    def softmax(self, x):\n",
    "        exp = np.exp(x)\n",
    "        if isinstance(x[0], np.ndarray):\n",
    "            return exp/np.sum(exp, axis=1, keepdims=True)\n",
    "        else:\n",
    "            return exp/np.sum(exp, keepdims=True)\n",
    "    \n",
    "    #def calculate_loss \n",
    "    #def mini_batch_gradient_descent()\n",
    "    #def back_propagation\n",
    "    #def performance_measurement\n",
    "    \n",
    "    #network structure define\n",
    "    def structure_define(self, nn):\n",
    "            #create input layer\n",
    "            input_layer = Layer([784, 'none', [], []])\n",
    "            nn.layers.append(input_layer)\n",
    "\n",
    "            #create hidden layer 1\n",
    "            np.random.seed(1)\n",
    "            hidden_layer_1_weights = np.random.randn(784, 16)\n",
    "            hidden_layer_1_biases = np.random.randn(16, 1)\n",
    "            hidden_layer_1 = Layer([16, 'ReLU', hidden_layer_1_weights, hidden_layer_1_biases])\n",
    "            nn.layers.append(hidden_layer_1)\n",
    "\n",
    "            #create hidden layer 2\n",
    "            np.random.seed(2)\n",
    "            hidden_layer_2_weights = np.random.randn(16, 16)\n",
    "            hidden_layer_2_biases = np.random.randn(16, 1)\n",
    "            hidden_layer_2 = Layer([16, 'ReLU', hidden_layer_2_weights, hidden_layer_2_biases])\n",
    "            nn.layers.append(hidden_layer_2)\n",
    "\n",
    "            #create output layer\n",
    "            np.random.seed(3)\n",
    "            output_layer_weights = np.random.randn(16, 10)\n",
    "            output_layer_biases = np.random.randn(10, 1)\n",
    "            output_layer = Layer([10, 'ReLU', output_layer_weights, output_layer_biases])\n",
    "            nn.layers.append(output_layer)\n",
    "            \n",
    "    def forward_propagation(self, sample_image):\n",
    "        counter = 1\n",
    "        for sample_image in X:\n",
    "            counter = counter + 1\n",
    "            sample_image = np.reshape(sample_image, (784, 1))\n",
    "            hidden_layer_1.activations_for_this_layer = self.sigmoid(np.add(np.matmul(np.transpose(hidden_layer_1.\\\n",
    "                                                        weights_from_previous_layer),sample_image), \\\n",
    "                                                        hidden_layer_1.biases_for_this_layer))\n",
    "            hidden_layer_2.activations_for_this_layer = self.sigmoid(np.add(np.matmul(np.transpose(hidden_layer_2.\\\n",
    "                                                        weights_from_previous_layer),\\\n",
    "                                                        hidden_layer_1.activations_for_this_layer), \\\n",
    "                                                        hidden_layer_2.biases_for_this_layer))\n",
    "            output_layer.activations_for_this_layer   = self.sigmoid(np.add(np.matmul(np.transpose(output_layer.\\\n",
    "                                                        weights_from_previous_layer),\\\n",
    "                                                        hidden_layer_2.activations_for_this_layer), \\\n",
    "                                                        output_layer.biases_for_this_layer))\n",
    "        print(counter, output_layer.activations_for_this_layer)\n",
    "\n",
    "#initialize network\n",
    "neural_net = NeuralNetwork([2, 16, 10])\n",
    "neural_net.structure_define(neural_net)\n",
    "\n",
    "#forward_propagation\n",
    "neural_net.forward_propagation(X)"
   ]
  }
 ],
 "metadata": {
  "kernelspec": {
   "display_name": "Python 3",
   "language": "python",
   "name": "python3"
  },
  "language_info": {
   "codemirror_mode": {
    "name": "ipython",
    "version": 3
   },
   "file_extension": ".py",
   "mimetype": "text/x-python",
   "name": "python",
   "nbconvert_exporter": "python",
   "pygments_lexer": "ipython3",
   "version": "3.6.2"
  }
 },
 "nbformat": 4,
 "nbformat_minor": 2
}
