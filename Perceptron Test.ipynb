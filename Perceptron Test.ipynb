{
 "cells": [
  {
   "cell_type": "markdown",
   "metadata": {},
   "source": [
    "<h1> Perceptron - AND Table - Stochastic Gradient Descent </h1> "
   ]
  },
  {
   "cell_type": "code",
   "execution_count": 45,
   "metadata": {},
   "outputs": [
    {
     "name": "stdout",
     "output_type": "stream",
     "text": [
      "Epoch:  0\n",
      "X1 = 0 X2 = 0 Y = 0 Theta1 = 0.3 Theta2 = -0.1 Predicted = 0 Cost = 0 New Theta1 = 0.3 New Theta2 = -0.1\n",
      "X1 = 0 X2 = 1 Y = 0 Theta1 = 0.3 Theta2 = -0.1 Predicted = 0 Cost = 0 New Theta1 = 0.3 New Theta2 = -0.1\n",
      "X1 = 1 X2 = 0 Y = 0 Theta1 = 0.2 Theta2 = -0.1 Predicted = 1 Cost = -1 New Theta1 = 0.2 New Theta2 = -0.1\n",
      "X1 = 1 X2 = 1 Y = 1 Theta1 = 0.3 Theta2 = 0.0 Predicted = 0 Cost = 1 New Theta1 = 0.3 New Theta2 = 0.0\n",
      "Epoch:  1\n",
      "X1 = 0 X2 = 0 Y = 0 Theta1 = 0.3 Theta2 = 0.0 Predicted = 0 Cost = 0 New Theta1 = 0.3 New Theta2 = 0.0\n",
      "X1 = 0 X2 = 1 Y = 0 Theta1 = 0.3 Theta2 = 0.0 Predicted = 0 Cost = 0 New Theta1 = 0.3 New Theta2 = 0.0\n",
      "X1 = 1 X2 = 0 Y = 0 Theta1 = 0.2 Theta2 = 0.0 Predicted = 1 Cost = -1 New Theta1 = 0.2 New Theta2 = 0.0\n",
      "X1 = 1 X2 = 1 Y = 1 Theta1 = 0.2 Theta2 = 0.0 Predicted = 1 Cost = 0 New Theta1 = 0.2 New Theta2 = 0.0\n",
      "Epoch:  2\n",
      "X1 = 0 X2 = 0 Y = 0 Theta1 = 0.2 Theta2 = 0.0 Predicted = 0 Cost = 0 New Theta1 = 0.2 New Theta2 = 0.0\n",
      "X1 = 0 X2 = 1 Y = 0 Theta1 = 0.2 Theta2 = 0.0 Predicted = 0 Cost = 0 New Theta1 = 0.2 New Theta2 = 0.0\n",
      "X1 = 1 X2 = 0 Y = 0 Theta1 = 0.1 Theta2 = 0.0 Predicted = 1 Cost = -1 New Theta1 = 0.1 New Theta2 = 0.0\n",
      "X1 = 1 X2 = 1 Y = 1 Theta1 = 0.2 Theta2 = 0.1 Predicted = 0 Cost = 1 New Theta1 = 0.2 New Theta2 = 0.1\n",
      "Epoch:  3\n",
      "X1 = 0 X2 = 0 Y = 0 Theta1 = 0.2 Theta2 = 0.1 Predicted = 0 Cost = 0 New Theta1 = 0.2 New Theta2 = 0.1\n",
      "X1 = 0 X2 = 1 Y = 0 Theta1 = 0.2 Theta2 = 0.1 Predicted = 0 Cost = 0 New Theta1 = 0.2 New Theta2 = 0.1\n",
      "X1 = 1 X2 = 0 Y = 0 Theta1 = 0.1 Theta2 = 0.1 Predicted = 1 Cost = -1 New Theta1 = 0.1 New Theta2 = 0.1\n",
      "X1 = 1 X2 = 1 Y = 1 Theta1 = 0.1 Theta2 = 0.1 Predicted = 1 Cost = 0 New Theta1 = 0.1 New Theta2 = 0.1\n",
      "Epoch:  4\n",
      "X1 = 0 X2 = 0 Y = 0 Theta1 = 0.1 Theta2 = 0.1 Predicted = 0 Cost = 0 New Theta1 = 0.1 New Theta2 = 0.1\n",
      "X1 = 0 X2 = 1 Y = 0 Theta1 = 0.1 Theta2 = 0.1 Predicted = 0 Cost = 0 New Theta1 = 0.1 New Theta2 = 0.1\n",
      "X1 = 1 X2 = 0 Y = 0 Theta1 = 0.1 Theta2 = 0.1 Predicted = 0 Cost = 0 New Theta1 = 0.1 New Theta2 = 0.1\n",
      "X1 = 1 X2 = 1 Y = 1 Theta1 = 0.1 Theta2 = 0.1 Predicted = 1 Cost = 0 New Theta1 = 0.1 New Theta2 = 0.1\n"
     ]
    }
   ],
   "source": [
    "import numpy as np\n",
    "\n",
    "x1 = np.array([0, 0, 1, 1])\n",
    "x2 = np.array([0, 1, 0, 1])\n",
    "y = np.array([0, 0, 0, 1])\n",
    "\n",
    "theta1 = 0.3\n",
    "theta2 =-0.1\n",
    "\n",
    "t1 = []\n",
    "t2 = []\n",
    "entropy = []\n",
    "\n",
    "learning_rate = 0.1\n",
    "th = 0.2\n",
    "cost = 0\n",
    "\n",
    "def HYP(x1, theta1, x2, theta2):\n",
    "    hyp = x1 * theta1 + x2 * theta2\n",
    "    if hyp < th:\n",
    "        hyp = 0\n",
    "    else:\n",
    "        hyp = 1\n",
    "    return hyp\n",
    "\n",
    "def J_Theta(x1, x2, y, theta1, theta2):\n",
    "    hyp = HYP(x1, theta1, x2, theta2)\n",
    "    return (y - hyp)\n",
    "\n",
    "def theta_update(theta, learning_rate, j_theta, x):\n",
    "    return (theta + (learning_rate * x * j_theta))\n",
    "    \n",
    "for epoch in range(5):\n",
    "    print (\"Epoch: \", epoch)\n",
    "    for i in range(len(x1)):\n",
    "        cost = J_Theta(x1[i], x2[i], y[i], theta1, theta2)\n",
    "        predict = HYP(x1[i], theta1, x2[i], theta2)\n",
    "        if cost != 0:\n",
    "            theta1 = theta_update(theta1, learning_rate, cost, x1[i]) + 0 #added this zero to avoid negative zero in floating points\n",
    "            theta1 = round(theta1, 3)\n",
    "            theta2 = theta_update(theta2, learning_rate, cost, x2[i]) + 0\n",
    "            theta2 = round(theta2, 3)\n",
    "        t1.append(theta1)\n",
    "        t2.append(theta2)\n",
    "        entropy.append(cost)\n",
    "        print('X1 =', x1[i], 'X2 =', x2[i], 'Y =', y[i], 'Theta1 =', theta1, 'Theta2 =', theta2, 'Predicted =', predict, 'Cost =', cost, \\\n",
    "              'New Theta1 =', theta1, 'New Theta2 =', theta2)\n",
    "\n",
    "t1 = np.asarray(t1)       \n",
    "t2 = np.asarray(t2)\n",
    "entropy = np.asarray(entropy)"
   ]
  }
 ],
 "metadata": {
  "kernelspec": {
   "display_name": "Python 3",
   "language": "python",
   "name": "python3"
  },
  "language_info": {
   "codemirror_mode": {
    "name": "ipython",
    "version": 3
   },
   "file_extension": ".py",
   "mimetype": "text/x-python",
   "name": "python",
   "nbconvert_exporter": "python",
   "pygments_lexer": "ipython3",
   "version": "3.6.2"
  }
 },
 "nbformat": 4,
 "nbformat_minor": 2
}
